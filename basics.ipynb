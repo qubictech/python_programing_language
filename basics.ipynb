{
 "cells": [
  {
   "cell_type": "code",
   "execution_count": 1,
   "metadata": {},
   "outputs": [
    {
     "name": "stdout",
     "output_type": "stream",
     "text": [
      "Hello\n"
     ]
    }
   ],
   "source": [
    "# Printing something is very easy in python. Just write print('whatever you want to print...')\n",
    "\n",
    "print('Hello')"
   ]
  },
  {
   "cell_type": "code",
   "execution_count": 4,
   "metadata": {},
   "outputs": [
    {
     "data": {
      "text/plain": [
       "156"
      ]
     },
     "execution_count": 4,
     "metadata": {},
     "output_type": "execute_result"
    }
   ],
   "source": [
    "# this single line is able to sum.. and the other arithmetic procedure are same.\n",
    "123+33\n"
   ]
  },
  {
   "cell_type": "code",
   "execution_count": 29,
   "metadata": {},
   "outputs": [
    {
     "name": "stdout",
     "output_type": "stream",
     "text": [
      "sabbir\n"
     ]
    }
   ],
   "source": [
    "# define a function without return type:\n",
    "def customPrint(value):\n",
    "    print(value)\n",
    "    \n",
    "# calling the defined function:\n",
    "customPrint('sabbir')"
   ]
  },
  {
   "cell_type": "code",
   "execution_count": 30,
   "metadata": {},
   "outputs": [
    {
     "data": {
      "text/plain": [
       "10"
      ]
     },
     "execution_count": 30,
     "metadata": {},
     "output_type": "execute_result"
    }
   ],
   "source": [
    "# define function with return type:\n",
    "def add(a,b):\n",
    "    return a+b\n",
    "\n",
    "add(5,5)"
   ]
  },
  {
   "cell_type": "code",
   "execution_count": 62,
   "metadata": {},
   "outputs": [
    {
     "name": "stdout",
     "output_type": "stream",
     "text": [
      "Your Number :70.9\n",
      "CGPA 3.25\n"
     ]
    }
   ],
   "source": [
    "# cgpa grading system:\n",
    "\n",
    "num = float(input('Your Number :'))\n",
    "\n",
    "if num>100:\n",
    "    print('Enter a valid number')\n",
    "\n",
    "if 80 <= num <= 100:\n",
    "    print('CGPA 4')\n",
    "    \n",
    "elif 75<=num<80:\n",
    "    print('CGPA 3.75')\n",
    "    \n",
    "elif 71<=num<75:\n",
    "    print('CGPA 3.50')\n",
    "    \n",
    "elif 65<=num<71:\n",
    "    print('CGPA 3.25')\n",
    "    \n",
    "elif 61<=num<65:\n",
    "    print('CGPA 3')\n",
    "    \n",
    "elif 55<=num<61:\n",
    "    print('CGPA 2.75')\n",
    "    \n",
    "elif 51<=num<55:\n",
    "    print('CGPA 2.50')\n",
    "    \n",
    "elif 45<=num<51:\n",
    "    print('CGPA 2.25')\n",
    "    \n",
    "elif 40<=num<45:\n",
    "    print('CGPA 2')\n",
    "    \n",
    "else:\n",
    "    print('Failed!')    "
   ]
  },
  {
   "cell_type": "code",
   "execution_count": 27,
   "metadata": {},
   "outputs": [
    {
     "name": "stdout",
     "output_type": "stream",
     "text": [
      "Enter the number of row/2: 5\n",
      "          * * * * * * * * * * \n",
      "        *\n",
      "      *\n",
      "    *\n",
      "  *\n",
      "    *\n",
      "      *\n",
      "        *\n",
      "          * * * * * * * * * * \n"
     ]
    }
   ],
   "source": [
    "# printing star:\n",
    "# \n",
    "#           * * * * * * * * * * \n",
    "#         *\n",
    "#       *\n",
    "#     *\n",
    "#   *\n",
    "#     *\n",
    "#       *\n",
    "#         *\n",
    "#           * * * * * * * * * * \n",
    "\n",
    "n = int(input('Enter the number of row/2: '))\n",
    "\n",
    "# print first half\n",
    "\n",
    "for i in range(n,0,-1):    \n",
    "    for j in range(i):\n",
    "        print(' ',end=' ')\n",
    "    \n",
    "    if (i==n):\n",
    "        for i in range(n*2):\n",
    "            print('*',end=' ')\n",
    "        print()\n",
    "    else:\n",
    "        print('*')\n",
    "\n",
    "# print second half\n",
    "\n",
    "for i in range(n+1):   \n",
    "    if (i==0 or i == n):\n",
    "        continue\n",
    "    \n",
    "    for j in range(i+1):\n",
    "        print(' ',end=' ')\n",
    "    \n",
    "    if (i==n-1):\n",
    "        for i in range(n*2):\n",
    "            print('*',end=' ')\n",
    "        print()\n",
    "    else:\n",
    "        print('*')\n",
    "    "
   ]
  },
  {
   "cell_type": "code",
   "execution_count": 95,
   "metadata": {},
   "outputs": [],
   "source": [
    "# in python array are used as list. \n",
    "# declaring a list:\n",
    "myList = list()\n",
    "\n",
    "# store data into list\n",
    "for i in range(5):\n",
    "    myList.append(i)"
   ]
  },
  {
   "cell_type": "code",
   "execution_count": 96,
   "metadata": {},
   "outputs": [
    {
     "name": "stdout",
     "output_type": "stream",
     "text": [
      "[0, 1, 2, 3, 4]\n"
     ]
    }
   ],
   "source": [
    "# print list data\n",
    "print(myList)"
   ]
  },
  {
   "cell_type": "code",
   "execution_count": 90,
   "metadata": {},
   "outputs": [
    {
     "name": "stdout",
     "output_type": "stream",
     "text": [
      "[0, 7, 2, 3, 4]\n"
     ]
    }
   ],
   "source": [
    "# update a list data using index of a list\n",
    "myList[1] = 7\n",
    "print(myList)"
   ]
  },
  {
   "cell_type": "code",
   "execution_count": 91,
   "metadata": {},
   "outputs": [
    {
     "name": "stdout",
     "output_type": "stream",
     "text": [
      "[0, 2, 3, 4]\n"
     ]
    }
   ],
   "source": [
    "# remove data from list, procedure 1:\n",
    "myList.pop(1)\n",
    "print(myList)"
   ]
  },
  {
   "cell_type": "code",
   "execution_count": 92,
   "metadata": {},
   "outputs": [
    {
     "name": "stdout",
     "output_type": "stream",
     "text": [
      "[0, 3, 4]\n"
     ]
    }
   ],
   "source": [
    "# remove data from list, procedure 2:\n",
    "myList.remove(2)\n",
    "print(myList)"
   ]
  },
  {
   "cell_type": "code",
   "execution_count": 93,
   "metadata": {},
   "outputs": [
    {
     "name": "stdout",
     "output_type": "stream",
     "text": [
      "(0, 3, 4)\n"
     ]
    }
   ],
   "source": [
    "# python tuples:\n",
    "# values can't be updatable\n",
    "# a list can be a tuples by a single change\n",
    "\n",
    "myList = tuple(myList)\n",
    "print(myList)"
   ]
  },
  {
   "cell_type": "code",
   "execution_count": 99,
   "metadata": {},
   "outputs": [
    {
     "data": {
      "text/plain": [
       "5"
      ]
     },
     "execution_count": 99,
     "metadata": {},
     "output_type": "execute_result"
    }
   ],
   "source": [
    "# mathmatical terms\n",
    "# detail doc: https://docs.python.org/3/library/math.html\n",
    "import math\n",
    "\n",
    "# len(myList)\n",
    "# max(myList)\n",
    "# min(myList)"
   ]
  },
  {
   "cell_type": "code",
   "execution_count": null,
   "metadata": {},
   "outputs": [],
   "source": []
  }
 ],
 "metadata": {
  "kernelspec": {
   "display_name": "Python 3",
   "language": "python",
   "name": "python3"
  },
  "language_info": {
   "codemirror_mode": {
    "name": "ipython",
    "version": 3
   },
   "file_extension": ".py",
   "mimetype": "text/x-python",
   "name": "python",
   "nbconvert_exporter": "python",
   "pygments_lexer": "ipython3",
   "version": "3.7.4"
  }
 },
 "nbformat": 4,
 "nbformat_minor": 2
}
