{
 "cells": [
  {
   "cell_type": "code",
   "execution_count": 1,
   "metadata": {},
   "outputs": [
    {
     "name": "stdout",
     "output_type": "stream",
     "text": [
      "Hello\n"
     ]
    }
   ],
   "source": [
    "# Printing something is very easy in python. Just write print('whatever you want to print...')\n",
    "\n",
    "print('Hello')"
   ]
  },
  {
   "cell_type": "code",
   "execution_count": 4,
   "metadata": {},
   "outputs": [
    {
     "data": {
      "text/plain": [
       "156"
      ]
     },
     "execution_count": 4,
     "metadata": {},
     "output_type": "execute_result"
    }
   ],
   "source": [
    "# this single line is able to sum.. and the other arithmetic procedure are same.\n",
    "123+33\n"
   ]
  },
  {
   "cell_type": "code",
   "execution_count": 29,
   "metadata": {},
   "outputs": [
    {
     "name": "stdout",
     "output_type": "stream",
     "text": [
      "sabbir\n"
     ]
    }
   ],
   "source": [
    "# define a function without return type:\n",
    "def customPrint(value):\n",
    "    print(value)\n",
    "    \n",
    "# calling the defined function:\n",
    "customPrint('sabbir')"
   ]
  },
  {
   "cell_type": "code",
   "execution_count": 30,
   "metadata": {},
   "outputs": [
    {
     "data": {
      "text/plain": [
       "10"
      ]
     },
     "execution_count": 30,
     "metadata": {},
     "output_type": "execute_result"
    }
   ],
   "source": [
    "# define function with return type:\n",
    "def add(a,b):\n",
    "    return a+b\n",
    "\n",
    "add(5,5)"
   ]
  },
  {
   "cell_type": "code",
   "execution_count": null,
   "metadata": {},
   "outputs": [],
   "source": [
    "# "
   ]
  },
  {
   "cell_type": "code",
   "execution_count": 27,
   "metadata": {},
   "outputs": [
    {
     "name": "stdout",
     "output_type": "stream",
     "text": [
      "Enter the number of row/2: 5\n",
      "          * * * * * * * * * * \n",
      "        *\n",
      "      *\n",
      "    *\n",
      "  *\n",
      "    *\n",
      "      *\n",
      "        *\n",
      "          * * * * * * * * * * \n"
     ]
    }
   ],
   "source": [
    "# printing star:\n",
    "# \n",
    "#           * * * * * * * * * * \n",
    "#         *\n",
    "#       *\n",
    "#     *\n",
    "#   *\n",
    "#     *\n",
    "#       *\n",
    "#         *\n",
    "#           * * * * * * * * * * \n",
    "\n",
    "n = int(input('Enter the number of row/2: '))\n",
    "\n",
    "# print first half\n",
    "\n",
    "for i in range(n,0,-1):    \n",
    "    for j in range(i):\n",
    "        print(' ',end=' ')\n",
    "    \n",
    "    if (i==n):\n",
    "        for i in range(n*2):\n",
    "            print('*',end=' ')\n",
    "        print()\n",
    "    else:\n",
    "        print('*')\n",
    "\n",
    "# print second half\n",
    "\n",
    "for i in range(n+1):   \n",
    "    if (i==0 or i == n):\n",
    "        continue\n",
    "    \n",
    "    for j in range(i+1):\n",
    "        print(' ',end=' ')\n",
    "    \n",
    "    if (i==n-1):\n",
    "        for i in range(n*2):\n",
    "            print('*',end=' ')\n",
    "        print()\n",
    "    else:\n",
    "        print('*')\n",
    "    "
   ]
  },
  {
   "cell_type": "code",
   "execution_count": 16,
   "metadata": {},
   "outputs": [],
   "source": [
    "# in python array are used as list. \n",
    "# declaring a list:\n",
    "myList = list()\n",
    "\n",
    "# store data into list\n",
    "for i in range(5):\n",
    "    myList.append(i)"
   ]
  },
  {
   "cell_type": "code",
   "execution_count": 6,
   "metadata": {},
   "outputs": [
    {
     "name": "stdout",
     "output_type": "stream",
     "text": [
      "[0, 1, 2, 3, 4]\n"
     ]
    }
   ],
   "source": [
    "# print list data\n",
    "print(myList)"
   ]
  },
  {
   "cell_type": "code",
   "execution_count": 17,
   "metadata": {},
   "outputs": [
    {
     "name": "stdout",
     "output_type": "stream",
     "text": [
      "[0, 7, 2, 3, 4]\n"
     ]
    }
   ],
   "source": [
    "# update a list data using index of a list\n",
    "myList[1] = 7\n",
    "print(myList)"
   ]
  },
  {
   "cell_type": "code",
   "execution_count": 18,
   "metadata": {},
   "outputs": [
    {
     "name": "stdout",
     "output_type": "stream",
     "text": [
      "[0, 2, 3, 4]\n"
     ]
    }
   ],
   "source": [
    "# remove data from list, procedure 1:\n",
    "myList.pop(1)\n",
    "print(myList)"
   ]
  },
  {
   "cell_type": "code",
   "execution_count": 20,
   "metadata": {},
   "outputs": [
    {
     "name": "stdout",
     "output_type": "stream",
     "text": [
      "[0, 3, 4]\n"
     ]
    }
   ],
   "source": [
    "# remove data from list, procedure 2:\n",
    "myList.remove(2)\n",
    "print(myList)"
   ]
  },
  {
   "cell_type": "code",
   "execution_count": null,
   "metadata": {},
   "outputs": [],
   "source": []
  }
 ],
 "metadata": {
  "kernelspec": {
   "display_name": "Python 3",
   "language": "python",
   "name": "python3"
  },
  "language_info": {
   "codemirror_mode": {
    "name": "ipython",
    "version": 3
   },
   "file_extension": ".py",
   "mimetype": "text/x-python",
   "name": "python",
   "nbconvert_exporter": "python",
   "pygments_lexer": "ipython3",
   "version": "3.7.4"
  }
 },
 "nbformat": 4,
 "nbformat_minor": 2
}
